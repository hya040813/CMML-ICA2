{
 "cells": [
  {
   "cell_type": "markdown",
   "id": "ae3e31dc",
   "metadata": {},
   "source": [
    "在此之前，已经从10x Genome上下载得到了原始数据。"
   ]
  },
  {
   "cell_type": "markdown",
   "id": "ef36447d",
   "metadata": {},
   "source": [
    "Quality Control"
   ]
  },
  {
   "cell_type": "code",
   "execution_count": 20,
   "id": "6105ee66",
   "metadata": {},
   "outputs": [],
   "source": [
    "import scanpy as sc\n",
    "import pandas as pd\n",
    "import scipy.sparse as sp\n",
    "from scipy import io\n",
    "from sklearn.feature_extraction.text import TfidfTransformer\n",
    "from intervaltree import IntervalTree\n",
    "from sklearn.decomposition import TruncatedSVD\n",
    "import os\n",
    "outdir = r\"D:\\HuaweiMoveData\\Users\\hya\\Desktop\\CMML\\ICA2\\Results\"\n",
    "os.makedirs(outdir, exist_ok=True)\n",
    "\n",
    "# 载入数据\n",
    "frag_file = r\"D:\\HuaweiMoveData\\Users\\hya\\Desktop\\CMML\\ICA2\\Downloaded_Raw_Data\\pbmc_unsorted_3k_atac_fragments.tsv\"\n",
    "peaks_bed = r\"D:\\HuaweiMoveData\\Users\\hya\\Desktop\\CMML\\ICA2\\Downloaded_Raw_Data\\pbmc_unsorted_3k_atac_peaks.bed\"\n",
    "\n",
    "# 先把 peaks.bed 读进来，按染色体构建 IntervalTree\n",
    "peak_list = [] # 保存所有peak的(chr, start, end)信息\n",
    "peak_trees = {} # 染色体名称chr为键，IntervalTree对象为值\n",
    "\n",
    "with open(peaks_bed) as f:\n",
    "    for peak_id, line in enumerate(f):\n",
    "        chrom, s, e = line.strip().split()[:3]\n",
    "        s, e = int(s), int(e)\n",
    "        peak_list.append((chrom, s, e))\n",
    "        tree = peak_trees.setdefault(chrom, IntervalTree())\n",
    "        tree[s:e] = peak_id\n",
    "\n",
    "n_peaks = len(peak_list)\n",
    "\n",
    "# 逐行扫描 fragments.tsv，查区间树，将每条 fragment 分配给所有重叠的 peak\n",
    "cell_to_id = {} # barcode -> col index\n",
    "rows, cols, data = [], [], []\n",
    "\n",
    "with open(frag_file) as f:\n",
    "    for line in f:\n",
    "        chrom, s, e, barcode, cnt = line.strip().split()[:5]\n",
    "        s, e, cnt = int(s), int(e), int(cnt)\n",
    "        if chrom not in peak_trees:\n",
    "            continue\n",
    "        for iv in peak_trees[chrom].overlap(s, e):\n",
    "            peak_id = iv.data\n",
    "            # barcode → cell_id\n",
    "            if barcode not in cell_to_id:\n",
    "                cell_to_id[barcode] = len(cell_to_id)\n",
    "            cell_id = cell_to_id[barcode]\n",
    "            rows.append(peak_id)\n",
    "            cols.append(cell_id)\n",
    "            data.append(cnt)\n",
    "\n",
    "n_cells = len(cell_to_id)\n",
    "\n",
    "# 构造 CSR 稀疏矩阵（会自动把重复的 (peak,cell) 累加）\n",
    "mat = sp.coo_matrix((data, (rows, cols)), shape=(n_peaks, n_cells)).tocsr()\n",
    "\n",
    "# AnnData 封装 (cells × peaks)\n",
    "adata_ATAC = sc.AnnData(mat.T.copy())\n",
    "adata_ATAC.var_names = [f\"{c}:{s}-{e}\" for c, s, e in peak_list]\n",
    "adata_ATAC.obs_names = list(cell_to_id.keys())\n",
    "\n",
    "# QC: 过滤低质量细胞\n",
    "adata_ATAC.obs['n_fragments'] = adata_ATAC.X.sum(axis=1).A1\n",
    "adata_ATAC = adata_ATAC[adata_ATAC.obs['n_fragments'] >= 1000, :]"
   ]
  },
  {
   "cell_type": "markdown",
   "id": "ef013f72",
   "metadata": {},
   "source": [
    "LSI: TF-IDF Normalization"
   ]
  },
  {
   "cell_type": "code",
   "execution_count": 21,
   "id": "ac24fc24",
   "metadata": {},
   "outputs": [
    {
     "name": "stderr",
     "output_type": "stream",
     "text": [
      "C:\\Users\\hya\\AppData\\Local\\Temp\\ipykernel_29676\\1781549544.py:4: ImplicitModificationWarning: Setting element `.obsm['X_tfidf']` of view, initializing view as actual.\n",
      "  adata_ATAC.obsm['X_tfidf'] = X_tfidf # 存回 AnnData.obsm 以便后续使用\n"
     ]
    }
   ],
   "source": [
    "# TF–IDF 归一化\n",
    "tfidf = TfidfTransformer(norm='l1', use_idf=True, smooth_idf=True)\n",
    "X_tfidf = tfidf.fit_transform(adata_ATAC.X)\n",
    "adata_ATAC.obsm['X_tfidf'] = X_tfidf # 存回 AnnData.obsm 以便后续使用"
   ]
  },
  {
   "cell_type": "markdown",
   "id": "53074b4f",
   "metadata": {},
   "source": [
    "Alignment & 导出结果文件，用于准备scAI的输入文件"
   ]
  },
  {
   "cell_type": "code",
   "execution_count": 23,
   "id": "c0fc86d0",
   "metadata": {},
   "outputs": [
    {
     "name": "stdout",
     "output_type": "stream",
     "text": [
      "对齐后细胞数： 1081 1081\n"
     ]
    }
   ],
   "source": [
    "# 对齐两端,只保留交集\n",
    "adata_RNA = sc.read_h5ad(r\"D:\\HuaweiMoveData\\Users\\hya\\Desktop\\CMML\\ICA2\\Results\\RNA_preprocessed.h5ad\")\n",
    "common = adata_RNA.obs_names.intersection(adata_ATAC.obs_names)\n",
    "\n",
    "adata_RNA  = adata_RNA[common, :].copy()\n",
    "adata_ATAC = adata_ATAC[common, :].copy()\n",
    "\n",
    "print(\"对齐后细胞数：\", adata_RNA.n_obs, adata_ATAC.n_obs)\n",
    "# 现在两者都应该等于 1081\n",
    "\n",
    "# ATAC\n",
    "# 保存完整的 AnnData (包含 X、obs、var、obsm 等所有信息)\n",
    "adata_ATAC.write(\n",
    "    r\"D:\\HuaweiMoveData\\Users\\hya\\Desktop\\CMML\\ICA2\\Results\\ATAC_preprocessed.h5ad\"\n",
    ")\n",
    "\n",
    "# 保存 counts 矩阵 (peaks × cells)，peak，barcode 标签\n",
    "tfidf_mat = adata_ATAC.obsm['X_tfidf'].copy().T\n",
    "io.mmwrite(\n",
    "    r\"D:\\HuaweiMoveData\\Users\\hya\\Desktop\\CMML\\ICA2\\Results\\scAI_atac_counts.mtx\",\n",
    "    sp.csr_matrix(tfidf_mat)\n",
    ")\n",
    "pd.Series(adata_ATAC.var_names, name='peak').to_csv(\n",
    "    r\"D:\\HuaweiMoveData\\Users\\hya\\Desktop\\CMML\\ICA2\\Results\\scAI_atac_peaks.tsv\",\n",
    "    sep=\"\\t\",\n",
    "    index=False\n",
    ")\n",
    "pd.Series(adata_ATAC.obs_names, name='cell').to_csv(\n",
    "    r\"D:\\HuaweiMoveData\\Users\\hya\\Desktop\\CMML\\ICA2\\Results\\scAI_atac_barcodes.tsv\",\n",
    "    sep=\"\\t\",\n",
    "    index=False\n",
    ")\n",
    "\n",
    "# RNA\n",
    "# 保存完整的 AnnData (包含 X、obs、var、obsm 等所有信息)\n",
    "adata_RNA.write(\n",
    "    r\"D:\\HuaweiMoveData\\Users\\hya\\Desktop\\CMML\\ICA2\\Results\\RNA_preprocessed.h5ad\"\n",
    ")\n",
    "\n",
    "# 保存counts矩阵(genes × cells)，gene，barcode标签\n",
    "rna_counts = adata_RNA.X.copy().T\n",
    "io.mmwrite(\n",
    "    r\"D:\\HuaweiMoveData\\Users\\hya\\Desktop\\CMML\\ICA2\\Results\\scAI_rna_counts.mtx\",\n",
    "    sp.csr_matrix(rna_counts)\n",
    ")\n",
    "pd.Series(adata_RNA.var_names, name='gene').to_csv(\n",
    "    r\"D:\\HuaweiMoveData\\Users\\hya\\Desktop\\CMML\\ICA2\\Results\\scAI_rna_genes.tsv\",\n",
    "    sep=\"\\t\",\n",
    "    index=False\n",
    ")\n",
    "pd.Series(adata_RNA.obs_names, name='cell').to_csv(\n",
    "    r\"D:\\HuaweiMoveData\\Users\\hya\\Desktop\\CMML\\ICA2\\Results\\scAI_rna_barcodes.tsv\",\n",
    "    sep=\"\\t\",\n",
    "    index=False\n",
    ")"
   ]
  },
  {
   "cell_type": "markdown",
   "id": "62ef3662",
   "metadata": {},
   "source": [
    "LSI: Singular Value Decomposition"
   ]
  },
  {
   "cell_type": "code",
   "execution_count": null,
   "id": "369dccca",
   "metadata": {},
   "outputs": [],
   "source": [
    "# 6) LSI (SVD 降维)\n",
    "svd = TruncatedSVD(n_components=50, random_state=0)\n",
    "adata_atac.obsm['X_lsi'] = svd.fit_transform(X_tfidf)"
   ]
  }
 ],
 "metadata": {
  "kernelspec": {
   "display_name": "cmml3_cpu",
   "language": "python",
   "name": "python3"
  },
  "language_info": {
   "codemirror_mode": {
    "name": "ipython",
    "version": 3
   },
   "file_extension": ".py",
   "mimetype": "text/x-python",
   "name": "python",
   "nbconvert_exporter": "python",
   "pygments_lexer": "ipython3",
   "version": "3.11.12"
  }
 },
 "nbformat": 4,
 "nbformat_minor": 5
}
